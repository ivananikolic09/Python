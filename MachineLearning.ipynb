{
 "cells": [
  {
   "cell_type": "markdown",
   "metadata": {},
   "source": [
    "# Machine Learning\n",
    "#### Scikit-learn calculation:\n",
    "* Residual sum of squares: $RSS = \\sum \\limits _{i = 1} ^{m}e^2_i$, where $e_i = y_i - \\hat y_i$ is the forecast error\n",
    "* Naive error: $ S_m = \\sum \\limits _{i = 1} ^{m}(y_i - \\bar y)^2 $, where $ \\bar y = \\frac {1}{m} \\sum \\limits _{i = 1} ^{m}y_i$ is the sample mean\n",
    "* $R^2 = 1 - \\frac {RSS}{S_m} $ \n",
    "\n",
    "#### Performance objectives:\n",
    "* Mean Square Error: $MSE = \\frac{1}{m}\\sum\\limits_{i}(y_i-\\hat y_i)^2$\n",
    "* Mean Absolute Error: $MAE = \\frac{1}{m}\\sum\\limits_{i}\\lvert y_i-\\hat y_i\\rvert$ (less sensitive to extreme values)\n",
    "* $R^2$ (can be negative for test sample if the model is terrible)"
   ]
  },
  {
   "cell_type": "markdown",
   "metadata": {},
   "source": [
    "### Linear Regression\n",
    "* Predicts future target values based on the historical feature values.\n",
    "* Doesn't make sense in case of qualitative multi-class problems when there is no ordering (0 - apple,1 - mango...)  - classification works better then.\n",
    "* $y_i = \\beta_0 + \\beta_1 X_i + \\epsilon_i $\n",
    "* $\\hat y_i = b_0 + b_1 X_i$"
   ]
  },
  {
   "cell_type": "code",
   "execution_count": 1,
   "metadata": {},
   "outputs": [
    {
     "name": "stdout",
     "output_type": "stream",
     "text": [
      "Score (R-squared):\n",
      "0.7742089909262329\n",
      "Intercept:\n",
      "[-0.09058507]\n",
      "Coefficient:\n",
      "[[0.98693378]]\n"
     ]
    }
   ],
   "source": [
    "%matplotlib inline\n",
    "import numpy as np\n",
    "import matplotlib.pyplot as plt\n",
    "\n",
    "from sklearn.linear_model import LinearRegression\n",
    "# Sample size m\n",
    "m = 20\n",
    "# Number of features n\n",
    "n = 1\n",
    "# Random feature X\n",
    "X = np.random.normal(size=(m,n),loc=0,scale=1.)\n",
    "# Random noise\n",
    "e = np.random.normal(size=(m,1),loc=0,scale=1.)\n",
    "# Target y\n",
    "y = X + e\n",
    "# Linear regression object\n",
    "lr = LinearRegression(fit_intercept=True)\n",
    "# Full sample fit\n",
    "lr.fit(X, y)\n",
    "print(\"Score (R-squared):\")\n",
    "print(lr.score(X,y))\n",
    "print(\"Intercept:\")\n",
    "print(lr.intercept_)\n",
    "print(\"Coefficient:\")\n",
    "print(lr.coef_)"
   ]
  },
  {
   "cell_type": "code",
   "execution_count": 2,
   "metadata": {},
   "outputs": [
    {
     "data": {
      "image/png": "[encoded data removed]",
      "text/plain": [
       "<Figure size 432x288 with 1 Axes>"
      ]
     },
     "metadata": {
      "needs_background": "light"
     },
     "output_type": "display_data"
    }
   ],
   "source": [
    "### PLOT ###\n",
    "# Range of X values for target prediction (yhat)\n",
    "# If this is not set, prediction line will only cover the current data points\n",
    "# It visually looks better if the prediction line is slightly longer \n",
    "xfeature = np.arange(start=-2.0,stop=2.0,step=0.05)\n",
    "# Convert to matrix (because of scikit-learn)\n",
    "xf = xfeature.reshape(len(xfeature),1)\n",
    "# Estimate predicted values of y\n",
    "yhat = lr.predict(xf)\n",
    "# Scatter Plot of data points\n",
    "plt.plot(X,y,\"o\")\n",
    "# Plot target prediction line\n",
    "plt.plot(xf,yhat)\n",
    "# Add axis labels\n",
    "plt.xlabel(\"Feature = X\")\n",
    "plt.ylabel(\"Target = y\")\n",
    "plt.grid()\n",
    "\n",
    "# Optionally set the axis range\n",
    "# plt.xlim(-2, 2)\n",
    "# plt.ylim(-4.5,2)"
   ]
  },
  {
   "cell_type": "markdown",
   "metadata": {},
   "source": [
    "### Polynomial Features\n",
    "* $ \\hat y_i = b_0 + b_1 X_i + b_2 X^2_i + b_3 X^3_i + \\ldots $"
   ]
  },
  {
   "cell_type": "code",
   "execution_count": 3,
   "metadata": {},
   "outputs": [
    {
     "name": "stdout",
     "output_type": "stream",
     "text": [
      "0.8705576178109822\n"
     ]
    }
   ],
   "source": [
    "from sklearn.preprocessing import PolynomialFeatures\n",
    "# Set up a 7 degree polynomial (include_bias=False eliminates intercept)\n",
    "poly = PolynomialFeatures(degree=7,include_bias=False)\n",
    "Xpoly = poly.fit_transform(X)\n",
    "lr.fit(Xpoly,y)\n",
    "print(lr.score(Xpoly,y))"
   ]
  },
  {
   "cell_type": "code",
   "execution_count": 5,
   "metadata": {},
   "outputs": [
    {
     "data": {
      "image/png": "[encoded data removed]",
      "text/plain": [
       "<Figure size 432x288 with 1 Axes>"
      ]
     },
     "metadata": {
      "needs_background": "light"
     },
     "output_type": "display_data"
    }
   ],
   "source": [
    "### PLOT ###\n",
    "xfeature = np.arange(start=-3,stop=3,step=0.05)\n",
    "xf = xfeature.reshape(len(xfeature),1)\n",
    "# Add powers of X\n",
    "xfPoly = poly.fit_transform(xf)\n",
    "yhat = lr.predict(xfPoly)\n",
    "# Scatter Plot of data points\n",
    "plt.plot(X,y,'o')\n",
    "# Plot target prediction line\n",
    "plt.plot(xfeature,yhat)\n",
    "plt.xlabel(\"Feature = X\")\n",
    "plt.ylabel(\"Target = y\")\n",
    "plt.grid()"
   ]
  },
  {
   "cell_type": "markdown",
   "metadata": {},
   "source": [
    "### Bias-Variance Trade-off\n",
    "* $ MSE = error + Var + Bias^2 $, where error cannot be eliminated\n",
    "* Standard Linear Regression is unbiased (bias = 0)\n",
    "* Some machine learning models reduce variance by having bias, and overall improve the performance\n",
    "* Both Ridge and Lasso are biased"
   ]
  },
  {
   "cell_type": "markdown",
   "metadata": {},
   "source": [
    "### Ridge Regression\n",
    "* Model penalizes for larger coefficients\n",
    "* Also known as shrinkage estimator because it shrinks the coefficients to zero\n",
    "* When a feature does not contribute much in RSS reduction, its coefficient is close to zero\n",
    "* The prediction is not a straight line\n",
    "* Ridge is sensitive to scaling data, it performs better on scaled\n",
    "* $ RSS = \\sum \\limits _{i=1}^{m}(y_i - w_o - \\sum \\limits _{j=1}^{n}w_j x_{i,j})^2 $\n",
    "* $ L_R = RSS + \\alpha \\sum \\limits _{j=1}^{n} w_j^2 $, where $\\alpha$ is a hyperparameter that controls the tolerance of large coefficients, higher $\\alpha $ pushes the coefficients to zero more strongly (can be greater than 1), when $\\alpha$ is very small, the results are nearly the same as linear regression\n",
    "* Penalty for Ridge is called L2"
   ]
  },
  {
   "cell_type": "code",
   "execution_count": null,
   "metadata": {},
   "outputs": [],
   "source": [
    "from sklearn.linear_model import Ridge\n",
    "ridge = Ridge(alpha=1.0)\n",
    "ridge.fit(X,y)\n",
    "print(ridge.score(X,y))"
   ]
  },
  {
   "cell_type": "markdown",
   "metadata": {},
   "source": [
    "### Lasso Regression\n",
    "* Linear model, does not identify non-linear relations\n",
    "* Similar to Ridge, but the penalty is L1\n",
    "* It set the useless coefficients to zero, Ridge keeps them very small\n",
    "* Can be used to eliminate the non-important coefficients\n",
    "* $ RSS = \\sum \\limits _{i=1}^{m}(y_i - w_o - \\sum \\limits _{j=1}^{n}w_j x_{i,j})^2 $\n",
    "* $ L_R = RSS + \\alpha \\sum \\limits _{j=1}^{n} \\lvert w_j \\rvert$, where $\\alpha$ is a hyperparameter that controls the tolerance of large coefficients\n",
    "* $\\alpha $ in Ridge and Lasso are in different units\n",
    "* Both Ridge and Lasso can sometimes better forecast than traditional econometric models with only statistically significant predictors"
   ]
  },
  {
   "cell_type": "code",
   "execution_count": null,
   "metadata": {},
   "outputs": [],
   "source": [
    "from sklearn.linear_model import Lasso\n",
    "lasso = Lasso(alpha=0.05)\n",
    "lasso.fit(X,y)\n",
    "print(lasso.score(X,y))"
   ]
  },
  {
   "cell_type": "markdown",
   "metadata": {},
   "source": [
    "#### Ridge and Lasso\n",
    "* Good when there are many predictors\n",
    "* Can reduce overfitting\n",
    "* Work well on clean test data"
   ]
  },
  {
   "cell_type": "markdown",
   "metadata": {},
   "source": [
    "### Elastic Net\n",
    "* (Just for the information)\n",
    "* Combines Ridge (L2) and Lasso (L1) penalties\n",
    "* $ RSS = \\sum \\limits _{i=1}^{m}(y_i - w_o - \\sum \\limits _{j=1}^{n}w_j x_{i,j})^2 $\n",
    "* $ L_R = RSS + r\\alpha \\sum \\limits _{j=1}^{n} \\lvert w_j \\rvert + \\frac {1-r}{2}\\alpha \\sum \\limits _{j=1}^{n}w_i^2$, where $r$ is a weight parameter"
   ]
  },
  {
   "cell_type": "markdown",
   "metadata": {},
   "source": [
    "### Cross-validation\n",
    "> cross_validate(modelObj,X,y,cv=cv_method) returns a dictionary so results are accessed: cv_model ['test_score']\n",
    "> cross_val_score(modelObj,X,y,cv=cv_method) returns a scores vector \n",
    "#### Random train_test_split"
   ]
  },
  {
   "cell_type": "code",
   "execution_count": 6,
   "metadata": {},
   "outputs": [
    {
     "name": "stdout",
     "output_type": "stream",
     "text": [
      "0.8123614091928469\n",
      "0.6203856342582543\n"
     ]
    }
   ],
   "source": [
    "from sklearn.model_selection import train_test_split\n",
    "X_train, X_test, y_train, y_test = train_test_split(X,y,test_size=0.5)\n",
    "\n",
    "lr.fit(X_train, y_train)\n",
    "\n",
    "print(lr.score(X_train,y_train))\n",
    "print(lr.score(X_test,y_test))"
   ]
  },
  {
   "cell_type": "code",
   "execution_count": null,
   "metadata": {},
   "outputs": [],
   "source": [
    "# Alternatively\n",
    "from sklearn.metrics import accuracy_score\n",
    "y_fc = lr.predict(X_test)\n",
    "print(accuracy_score(y_test, y_fc))"
   ]
  },
  {
   "cell_type": "markdown",
   "metadata": {},
   "source": [
    "#### Shuffle split\n",
    "* Standard randomized cross-validation"
   ]
  },
  {
   "cell_type": "code",
   "execution_count": 8,
   "metadata": {},
   "outputs": [
    {
     "name": "stdout",
     "output_type": "stream",
     "text": [
      "0.7531659380093481\n",
      "0.49730213774990334\n",
      "0.35714064101068904\n"
     ]
    }
   ],
   "source": [
    "from sklearn.model_selection import ShuffleSplit\n",
    "from sklearn.model_selection import cross_validate\n",
    "shuffle = ShuffleSplit(n_splits=50, test_size=.25)\n",
    "shuffle_cv = cross_validate(lr, X, y, cv=shuffle,return_train_score=True)\n",
    "print(np.mean(shuffle_cv['train_score']))\n",
    "print(np.mean(shuffle_cv['test_score']))\n",
    "\n",
    "from sklearn.model_selection import cross_val_score\n",
    "cvScores = cross_val_score(lr, X, y, cv=shuffle)\n",
    "# Only returns test scores\n",
    "print(np.mean(cvScores))"
   ]
  },
  {
   "cell_type": "markdown",
   "metadata": {},
   "source": [
    "#### K-fold\n",
    "* Splits data set in k parts k number of times, each time k-1 parts are train and 1 is test\n",
    "* No randomness, the scores are always the same because it uses the entire data set at different times\n",
    "* Minimum k is usually 3; 5 is common; 10 when data set is large"
   ]
  },
  {
   "cell_type": "code",
   "execution_count": 9,
   "metadata": {},
   "outputs": [
    {
     "name": "stdout",
     "output_type": "stream",
     "text": [
      "0.7713817117893857\n",
      "-7365.007309487211\n"
     ]
    }
   ],
   "source": [
    "k = 10\n",
    "k_folds = cross_validate(lr, X, y, cv=k,return_train_score=True)\n",
    "print(np.mean(k_folds['train_score']))\n",
    "print(np.mean(k_folds['test_score']))"
   ]
  },
  {
   "cell_type": "code",
   "execution_count": null,
   "metadata": {},
   "outputs": [],
   "source": [
    "from sklearn.model_selection import cross_val_predict\n",
    "# method='predict' returns 0 and 1 based of 0.5 threshold\n",
    "# method='decision_function' sums up the values:\n",
    "#    negative up to -1 if it thinks it is 0, 0 if it doesn't know, positive up to 1 if it thinks it is 1\n",
    "y_train_pred = cross_val_predict(modelObj, X_train, y,_train cv=k, method='predict')"
   ]
  },
  {
   "cell_type": "markdown",
   "metadata": {},
   "source": [
    "#### Stratified\n",
    "* Randomly selects train and test sets in a way that replicates the proportions of classes from the original data set"
   ]
  },
  {
   "cell_type": "code",
   "execution_count": 15,
   "metadata": {},
   "outputs": [],
   "source": [
    "from sklearn.model_selection import StratifiedShuffleSplit\n",
    "stratified = StratifiedShuffleSplit(n_splits=50, test_size=0.25)\n",
    "\n",
    "from sklearn.model_selection import StratifiedKFold\n",
    "skf = StratifiedKFold(n_splits=k)"
   ]
  },
  {
   "cell_type": "markdown",
   "metadata": {},
   "source": [
    "### Undersampling\n",
    "* When data set is not balanced, takes all data points with uncommon value, and randomly chooses the same sample size from the data points with the more common value\n",
    "* It balanced the data set at cost of losing data\n",
    "\n",
    "### Oversampling\n",
    "* Balances the data set by repeating uncommon values to match the sample size of the common ones\n",
    "* Problematic because it repeat data\n",
    "\n",
    "### SMOTE - Synthetic Minority Over-sampling Technique\n",
    "* Instead of repeating the same uncommon data points, it generates random ones"
   ]
  },
  {
   "cell_type": "markdown",
   "metadata": {},
   "source": [
    "### Overfitting Problem\n",
    "* Model performs a lot better on the training data than the test data, because it fits noise, not structure, and does not generalize well\n",
    "* Adding extra parameters (making the model more complex) will almost always improve the training score\n",
    "* Irrelevant features add noise, optimal model is not the most complex one\n",
    "#### Solutions\n",
    "* Increase the full data set\n",
    "* Simplify the model (Regularization penalizes model complexity), complexity reduces MSE, but increases penalty:\n",
    "\n",
    "    $L_r = L + R(C)$, where L is the learning rate)"
   ]
  },
  {
   "cell_type": "code",
   "execution_count": 16,
   "metadata": {},
   "outputs": [],
   "source": [
    "# Generate linear data for experiments\n",
    "def genLinData(N,M,noise):\n",
    "    # y = x_1 + x_2 .. x_M + eps\n",
    "    # X's scaled so the variance of explained part is same order as noise variance (if std(eps) = 1)\n",
    "    sigNoise = np.sqrt(1./M)\n",
    "    X = np.random.normal(size=(N,M),loc=0,scale=sigNoise)\n",
    "    eps = np.random.normal(size=N,loc=0,scale=noise)\n",
    "    y = np.sum(X,axis=1)+eps\n",
    "    return X,y\n",
    "X, y = genLinData(200,50,1.0)\n",
    "# 50 predictors for sample size 200 is too many so there will be overfitting"
   ]
  },
  {
   "cell_type": "markdown",
   "metadata": {},
   "source": [
    "#### Generating data for classification\n",
    "* Generating points around two different means, classifying as 0 or 1, and randomly mixing"
   ]
  },
  {
   "cell_type": "code",
   "execution_count": 17,
   "metadata": {},
   "outputs": [],
   "source": [
    "# Initiate sample sizes m0, m1 and the mean values mean0, mean1\n",
    "m0 = m1 = 25\n",
    "mean0, mean1 = -0.5, 0.5\n",
    "# Generate normally distributed random data points around given means\n",
    "X0 = np.random.normal(size=(m0,2),loc=mean0,scale=1.)\n",
    "X1 = np.random.normal(size=(m1,2),loc=mean1,scale=1.)\n",
    "# Initiate target values to zeroes and ones\n",
    "y0, y1 = np.zeros(m0), np.ones(m1)\n",
    "# Join data into a single column\n",
    "X = np.append(X0,X1,axis=0)\n",
    "y = np.append(y0,y1)\n",
    "# Randomly mix the data points\n",
    "rnd_mix = np.random.permutation(m0+m1)\n",
    "X, y = X[rnd_mix], y[rnd_mix]"
   ]
  },
  {
   "cell_type": "code",
   "execution_count": 18,
   "metadata": {},
   "outputs": [
    {
     "data": {
      "image/png": "[encoded data removed]",
      "text/plain": [
       "<Figure size 432x288 with 1 Axes>"
      ]
     },
     "metadata": {
      "needs_background": "light"
     },
     "output_type": "display_data"
    }
   ],
   "source": [
    "### PLOT ###\n",
    "plt.plot(X[:,0][y==0],X[:,1][y==0],'o',label=\"class 0\")\n",
    "plt.plot(X[:,0][y==1],X[:,1][y==1],'^',label=\"class 1\")\n",
    "plt.xlabel(\"First feature\")\n",
    "plt.ylabel(\"Second feature\")\n",
    "plt.legend()\n",
    "plt.grid()"
   ]
  },
  {
   "cell_type": "markdown",
   "metadata": {},
   "source": [
    "### Logistic Regression\n",
    "* Classification method that only works for linear relations in data (doesn't work for non-linear relations)\n",
    "* Calculates probabilities, and returns 1 if p > 0.5, else 0\n",
    "### $P(y_i = 1 | X_i) = p(X_i) = \\frac{e^{w_0+\\sum \\limits _{j = 1}^{n}w_jX_{i,j}}}{1+e^{w_0+\\sum \\limits _{j = 1}^{n}w_jX_{i,j}}}$"
   ]
  },
  {
   "cell_type": "code",
   "execution_count": 19,
   "metadata": {},
   "outputs": [
    {
     "name": "stdout",
     "output_type": "stream",
     "text": [
      "0.6\n",
      "0.72\n"
     ]
    }
   ],
   "source": [
    "from sklearn.linear_model import LogisticRegression\n",
    "X_train, X_test, y_train, y_test = train_test_split(X,y,test_size=0.5)\n",
    "# Penalty = None means standard logistic regression, could be L2 and L1 (then parameter C should be set, where alpha = 1/C)\n",
    "# Solver = 'lbfgs' keeps adjusting parameters, fastest solver=\"sag\", solver='liblinear'\n",
    "# max_iter=2000, if error then this number should be larger otherwise it stops before finding the right model\n",
    "lr = LogisticRegression(penalty=\"none\",solver=\"lbfgs\")\n",
    "lr.fit(X_train,y_train)\n",
    "# Score is equal to accuracy (fraction that is correct)\n",
    "print(lr.score(X_train,y_train))\n",
    "print(lr.score(X_test, y_test))"
   ]
  },
  {
   "cell_type": "markdown",
   "metadata": {},
   "source": [
    "#### Stohastic Gradient Descent"
   ]
  },
  {
   "cell_type": "code",
   "execution_count": 20,
   "metadata": {},
   "outputs": [
    {
     "name": "stdout",
     "output_type": "stream",
     "text": [
      "0.76\n",
      "0.64\n"
     ]
    }
   ],
   "source": [
    "from sklearn.linear_model import SGDClassifier\n",
    "# Logistic regression with a faster optimizer, threshold is 0\n",
    "# loss='log' is standard logistic\n",
    "# tol is tolerance and it says when to stop\n",
    "sgd_clf = SGDClassifier(loss=\"log\",max_iter=1000, tol=1e-3)\n",
    "sgd_clf.fit(X_train, y_train)\n",
    "print(sgd_clf.score(X_train, y_train))\n",
    "print(sgd_clf.score(X_test, y_test))"
   ]
  },
  {
   "cell_type": "markdown",
   "metadata": {},
   "source": [
    "#### Monte-Carlo simulations function"
   ]
  },
  {
   "cell_type": "code",
   "execution_count": 21,
   "metadata": {},
   "outputs": [],
   "source": [
    "def monteCarlo(num,X,y,modelObj,test_frac):\n",
    "    '''\n",
    "    Input: int num is number of simulations, example for modelObj: lr = LinearRegression(fit_intercept=True)\n",
    "    Output: np.arrays trainScore and testScore, each score is based on a random train/test split\n",
    "    '''\n",
    "    # Initialize np.arrays\n",
    "    trainScores = np.zeros(num)\n",
    "    testScores  = np.zeros(num)\n",
    "    # Split data num times and each time store train and test results\n",
    "    for i in range(num):\n",
    "        X_train, X_test, y_train, y_test = train_test_split(X,y,test_size=test_frac)\n",
    "        modelObj.fit(X_train,y_train)\n",
    "        trainScores[i] = modelObj.score(X_train,y_train)\n",
    "        testScores[i]  = modelObj.score(X_test,y_test)\n",
    "    return trainScores,testScores"
   ]
  },
  {
   "cell_type": "code",
   "execution_count": 22,
   "metadata": {},
   "outputs": [
    {
     "name": "stdout",
     "output_type": "stream",
     "text": [
      "0.72192\n",
      "0.64176\n"
     ]
    }
   ],
   "source": [
    "lr = LogisticRegression(penalty=\"none\",solver=\"lbfgs\")\n",
    "trainS, testS = monteCarlo(250,X,y,lr,0.5)\n",
    "print(np.mean(trainS))\n",
    "print(np.mean(testS))"
   ]
  },
  {
   "cell_type": "markdown",
   "metadata": {},
   "source": [
    "### K-nearest Neighbors\n",
    "#### Regression\n",
    "* Calculates the mean value of k nearest data points, it does not fit an equation (pure non-parametric model)\n",
    "* Prediction line will not be straight, it will connect local means\n",
    "* $\\hat y_i = \\frac {1}{k} \\sum \\limits _{j=1}^{k} y_j$"
   ]
  },
  {
   "cell_type": "code",
   "execution_count": null,
   "metadata": {},
   "outputs": [],
   "source": [
    "from sklearn.neighbors import KNeighborsRegressor\n",
    "knnreg = reg = KNeighborsRegressor(n_neighbors=7)\n",
    "knnreg.fit(X,y)\n",
    "print(knnreg.score(X,y))"
   ]
  },
  {
   "cell_type": "markdown",
   "metadata": {},
   "source": [
    "### K-nearest Neighbors\n",
    "#### Classifier\n",
    "* Finds k nearest data points by measuring Euclidean distance, then forecasts based on the most frequent value\n",
    "* Smaller number of neighbors means more complex model, large number means average of a lot of data points\n",
    "* Works for both linear and non-linear relationships\n",
    "* Odd number of neighbors prevents from using secondary tools for calculating the distance in case of the same distance between two data points\n",
    "* Handles multi-class problems well\n",
    "* Scaling and preprocessing the data matters! It is very important\n",
    "* It performs best on large data sets but it gets slow\n",
    "* $d_{i,j} = (\\sum \\limits _{h=1}^{n}(X_{i,h} - X_{j,h})^2)^\\frac{1}{2}$, where n is number of dimensions in the space"
   ]
  },
  {
   "cell_type": "code",
   "execution_count": 23,
   "metadata": {},
   "outputs": [
    {
     "name": "stdout",
     "output_type": "stream",
     "text": [
      "0.6\n",
      "0.68\n"
     ]
    }
   ],
   "source": [
    "from sklearn.neighbors import KNeighborsClassifier\n",
    "X_train, X_test, y_train, y_test = train_test_split(X,y,test_size=0.5)\n",
    "knn = KNeighborsClassifier(n_neighbors=5)\n",
    "knn.fit(X_train,y_train)\n",
    "print(knn.score(X_train,y_train))\n",
    "print(knn.score(X_test, y_test))"
   ]
  },
  {
   "cell_type": "code",
   "execution_count": 24,
   "metadata": {},
   "outputs": [
    {
     "name": "stdout",
     "output_type": "stream",
     "text": [
      "0.7585599999999999\n",
      "0.64224\n"
     ]
    }
   ],
   "source": [
    "trainS, testS = monteCarlo(250,X,y,knn,0.5)\n",
    "print(np.mean(trainS))\n",
    "print(np.mean(testS))"
   ]
  },
  {
   "cell_type": "code",
   "execution_count": 25,
   "metadata": {},
   "outputs": [
    {
     "data": {
      "image/png": "[encoded data removed]",
      "text/plain": [
       "<Figure size 432x288 with 1 Axes>"
      ]
     },
     "metadata": {
      "needs_background": "light"
     },
     "output_type": "display_data"
    }
   ],
   "source": [
    "# Set upper number of neighbors N, and the step\n",
    "N = 25\n",
    "step = 1\n",
    "# Initialize np.arrays for results\n",
    "neighbors_range = range(1,N+1,step)\n",
    "training_accuracy = np.zeros(len(neighbors_range))\n",
    "test_accuracy = np.zeros(len(neighbors_range))\n",
    "# Try n_neighbors from 1 to N, with given step\n",
    "for i in range(1,len(neighbors_range)+1):\n",
    "    knn = KNeighborsClassifier(n_neighbors=i)\n",
    "    trainS, testS = monteCarlo(100,X,y,knn,0.5)\n",
    "    # record train accuracy\n",
    "    training_accuracy[i-1] = np.mean(trainS)\n",
    "    # record test accuracy\n",
    "    test_accuracy[i-1] = np.mean(testS)\n",
    "\n",
    "### PLOT ###\n",
    "plt.plot(neighbors_range, training_accuracy, label=\"training accuracy\")\n",
    "plt.plot(neighbors_range, test_accuracy, label=\"test accuracy\")\n",
    "plt.xlim(N, 1)\n",
    "plt.ylabel(\"Accuracy\")\n",
    "plt.xlabel(\"n_neighbors\")\n",
    "plt.legend()\n",
    "plt.grid();"
   ]
  },
  {
   "cell_type": "markdown",
   "metadata": {},
   "source": [
    "### Naive predictor\n",
    "* Good benchmark for model performance, it is a guess of the most frequent value"
   ]
  },
  {
   "cell_type": "code",
   "execution_count": null,
   "metadata": {},
   "outputs": [],
   "source": [
    "from sklearn.base import BaseEstimator\n",
    "class GuessClassifier(BaseEstimator):\n",
    "    def fit(self, X, y=None):\n",
    "        pass\n",
    "    def predict(self, X):\n",
    "        return np.zeros((len(X), 1), dtype=bool)\n",
    "modelObj = GuessClassifier()"
   ]
  },
  {
   "cell_type": "code",
   "execution_count": null,
   "metadata": {},
   "outputs": [],
   "source": [
    "from sklearn.dummy import DummyClassifier\n",
    "# Random classifier [0,1] with same 0.5 probability\n",
    "dmy = DummyClassifier(strategy='uniform')\n",
    "dmy.fit(X,y)\n",
    "print(dmy.score(X,y))"
   ]
  },
  {
   "cell_type": "markdown",
   "metadata": {},
   "source": [
    "### Confusion matrix\n",
    "\n",
    "|     |Prediction F |Prediction T |\n",
    "| --- | :---: | :---: |\n",
    "|Negative| TN | FP (type I error) |\n",
    "|Positive| FN (type II error) | TP |\n",
    "\n",
    "* Accuracy = $\\frac{TN+TP}{Total} $ = $\\frac{Correct Predictions}{Total Predictions} $\n",
    "---\n",
    "* Precision = $\\frac{TP}{TP + FP} $ = $\\frac{Correct Positive Predictions}{Total Positive Predictions} $ What is the precision of the positive tests?\n",
    "---\n",
    "* Recall = $\\frac{TP}{TP + FN} $ = $\\frac{Correct Positive Predictions}{Total Positive} $ What is the rate of detecting positive cases? (Power of the test)\n",
    "---\n",
    "\n",
    "#### False Positive (Type I error)\n",
    "* Incorrectly reject true $H_0$\n",
    "* Type I error rate = $\\frac{FP}{FP + TN} $ = $\\frac{False Positive Predictions}{Total Positive} $ Incorectly marked positive\n",
    "\n",
    "#### False Negative (Type II error)\n",
    "* Incorrectly keep false $H_0$\n",
    "* Type II error rate = $\\frac{FN}{TP + FN} $= $\\frac{False Negative Predictions}{Total Positive} $ Missed positive cases"
   ]
  },
  {
   "cell_type": "code",
   "execution_count": 26,
   "metadata": {},
   "outputs": [
    {
     "name": "stdout",
     "output_type": "stream",
     "text": [
      "[[8 5]\n",
      " [5 7]]\n",
      "0.5833333333333334\n",
      "0.5833333333333334\n"
     ]
    }
   ],
   "source": [
    "from sklearn.metrics import confusion_matrix\n",
    "# Default threshold for prediction is 0.5\n",
    "y_test_pred = lr.predict(X_test) \n",
    "confusMatrix = confusion_matrix(y_test, y_test_pred)\n",
    "tn, fp, fn, tp = confusMatrix.ravel()\n",
    "print(confusMatrix)\n",
    "\n",
    "from sklearn.metrics import precision_score, recall_score\n",
    "\n",
    "print(precision_score(y_test, y_test_pred))\n",
    "print(recall_score(y_test, y_test_pred))"
   ]
  },
  {
   "cell_type": "code",
   "execution_count": 27,
   "metadata": {},
   "outputs": [
    {
     "name": "stdout",
     "output_type": "stream",
     "text": [
      "[[10  3]\n",
      " [ 6  6]]\n"
     ]
    }
   ],
   "source": [
    "# Alternatively, set the threshold\n",
    "threshold = 0.7\n",
    "y_test_prob = lr.predict_proba(X_test)[:,1]\n",
    "y_test_pred = y_test_prob > threshold\n",
    "confusMatrix = confusion_matrix(y_test, y_test_pred)\n",
    "print(confusMatrix)"
   ]
  },
  {
   "cell_type": "code",
   "execution_count": 28,
   "metadata": {},
   "outputs": [
    {
     "name": "stdout",
     "output_type": "stream",
     "text": [
      "[[8 5]\n",
      " [5 7]]\n"
     ]
    }
   ],
   "source": [
    "# Alternatively, use decision function which measures the distance from the boundary that separates the two types\n",
    "# (if there are two consentrations of data points, and a line in between, the farther away the data point from this\n",
    "# boundary line is, it is more likely to belong to the data concentration group on that side of the boundary)\n",
    "# When threshold is 0 then one side is positive distances, other is negative\n",
    "threshold = 0\n",
    "decisionFunc = lr.decision_function(X_test)\n",
    "y_test_pred = decisionFunc > threshold\n",
    "confusMatrix = confusion_matrix(y_test, y_test_pred)\n",
    "print(confusMatrix)"
   ]
  },
  {
   "cell_type": "markdown",
   "metadata": {},
   "source": [
    "### ROC curve\n",
    "* Plots type I error rate (False positive) vs Recall (power)\n",
    "* When these are the same (diagonal line), the model is useless"
   ]
  },
  {
   "cell_type": "code",
   "execution_count": 29,
   "metadata": {},
   "outputs": [
    {
     "data": {
      "image/png": "[encoded data removed]",
      "text/plain": [
       "<Figure size 432x288 with 1 Axes>"
      ]
     },
     "metadata": {
      "needs_background": "light"
     },
     "output_type": "display_data"
    }
   ],
   "source": [
    "from sklearn.metrics import roc_curve\n",
    "\n",
    "# Roc_curve automatically recognizes probabilities vs scores, input can be either\n",
    "y_probs_knn = knn.predict_proba(X_test)[:,1]\n",
    "y_probs_lr  = lr.predict_proba(X_test)[:,1]\n",
    "\n",
    "fprknn, tprknn, thresholds = roc_curve(y_test, y_probs_knn)\n",
    "fprlr, tprlr, thresholds =   roc_curve(y_test, y_probs_lr)\n",
    "\n",
    "### PLOT ###\n",
    "plt.plot(fprknn,tprknn,label='KNN')\n",
    "plt.plot(fprlr,tprlr,label='Logistic')\n",
    "plt.grid()\n",
    "plt.xlabel('False positive rate')\n",
    "plt.ylabel('Recall: True negative rate')\n",
    "plt.legend();"
   ]
  },
  {
   "cell_type": "markdown",
   "metadata": {},
   "source": [
    "### Area under the curve (AUC)\n",
    "* Measure of distance away from the diagonal line where type I error rate equals recall\n",
    "* The bigger the area under the curve is, the better"
   ]
  },
  {
   "cell_type": "code",
   "execution_count": 30,
   "metadata": {},
   "outputs": [
    {
     "name": "stdout",
     "output_type": "stream",
     "text": [
      "0.5\n",
      "0.6794871794871795\n"
     ]
    }
   ],
   "source": [
    "from sklearn.metrics import roc_auc_score\n",
    "# 0.5 score means random, 1.0 means perfect\n",
    "print(roc_auc_score(y_test, y_probs_knn))\n",
    "print(roc_auc_score(y_test, y_probs_lr))"
   ]
  },
  {
   "cell_type": "markdown",
   "metadata": {},
   "source": [
    "### Multiclass problem\n",
    "(sklearn automatically recognizes when there are multi classes)\n",
    "* Ordered (both regression and classification can work)\n",
    "* Unordered (regression makes no sense)\n",
    "\n",
    "Controlled by specifing in modelObj:\n",
    "* multi_class = 'ovr' One vs. rest (compares one at the time with everything else), SGDclassifier uses ovr\n",
    "* multi_class = 'ovo' One vs. one (good for extremely large data sets)\n",
    "* multi_class = 'multinomial'\n",
    "\n",
    "### Label encoder\n",
    "Maps characters to numbers"
   ]
  },
  {
   "cell_type": "code",
   "execution_count": null,
   "metadata": {},
   "outputs": [],
   "source": [
    "from sklearn.preprocessing import LabelEncoder\n",
    "enc = LabelEncoder()\n",
    "X[column] = enc.fit_transform(X[column])\n"
   ]
  },
  {
   "cell_type": "markdown",
   "metadata": {},
   "source": [
    "### The Random Forest classifier"
   ]
  },
  {
   "cell_type": "code",
   "execution_count": 31,
   "metadata": {},
   "outputs": [],
   "source": [
    "from sklearn.ensemble import RandomForestClassifier\n",
    "from sklearn.model_selection import cross_val_predict\n",
    "forest = RandomForestClassifier(n_estimators=100)\n",
    "forest.fit(X_train,y_train)\n",
    "y_probas_forest = cross_val_predict(forest, X_train, y_train, cv=3, method=\"predict_proba\")"
   ]
  },
  {
   "cell_type": "code",
   "execution_count": null,
   "metadata": {},
   "outputs": [],
   "source": []
  },
  {
   "cell_type": "code",
   "execution_count": null,
   "metadata": {},
   "outputs": [],
   "source": []
  },
  {
   "cell_type": "code",
   "execution_count": null,
   "metadata": {},
   "outputs": [],
   "source": []
  },
  {
   "cell_type": "code",
   "execution_count": null,
   "metadata": {},
   "outputs": [],
   "source": []
  }
 ],
 "metadata": {
  "kernelspec": {
   "display_name": "Python 3",
   "language": "python",
   "name": "python3"
  },
  "language_info": {
   "codemirror_mode": {
    "name": "ipython",
    "version": 3
   },
   "file_extension": ".py",
   "mimetype": "text/x-python",
   "name": "python",
   "nbconvert_exporter": "python",
   "pygments_lexer": "ipython3",
   "version": "3.8.3"
  }
 },
 "nbformat": 4,
 "nbformat_minor": 4
}
